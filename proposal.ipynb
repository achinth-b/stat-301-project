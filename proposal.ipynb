{
 "cells": [
  {
   "cell_type": "markdown",
   "metadata": {},
   "source": [
    "## Classifying Patient Mortality from Breast Cancer Data"
   ]
  },
  {
   "cell_type": "markdown",
   "metadata": {},
   "source": [
    "Breast cancer is the most common malignancy among Canadian women (excluding non-melanoma skin cancers). It is the second most typical cancer-related cause of mortality among Canadian women. Breast cancer in men is rare yet it is possible. Invasive ductal carcinoma (IDC), which makes up around 80% of cases, is one of the most common types of breast cancer. It is particularly dangerous since it is nefarious and has the capacity to spread. To get minute tissue samples, a biopsy is commonly carried out. A pathologist will next evaluate if the patient has IDC, an additional kind of breast cancer, or is in good health. \n",
    "\n",
    "Projections show that in 2022:\n",
    "\n",
    "* 28,600 Canadian women will be diagnosed with breast cancer. This will represent 25% of all new cases of cancer in women in 2022.\n",
    "\n",
    "* 5,500 Canadian women will die from breast cancer. This will be the cause of 14% of all female cancer deaths in 2022.\n",
    "\n",
    "* 78 Canadian women will be told they have breast cancer every day.\n",
    "\n",
    "* In Canada, 1 in 8 women will eventually get breast cancer, and 1 in 34 will pass away from it. \n",
    "\n",
    "This dataset of breast cancer patients was published in the November 2017 update of the SEER Program of the NCI, which provides information on population-based cancer statistics. The dataset includes female patients who were diagnosed with infiltrating ductal and lobular carcinoma in their breasts between 2006 and 2010 (SEER primary cites recode NOS histology codes 8522/3). 4024 people were ultimately included after patients with unsure tumour sizes, explored regional LNs, positive regional LNs, and patients with survival periods of less than a month were all excluded. "
   ]
  },
  {
   "cell_type": "markdown",
   "metadata": {},
   "source": [
    "\n",
    "\n",
    "## Description of Variables\n"
   ]
  },
  {
   "cell_type": "markdown",
   "metadata": {},
   "source": [
    "Amounting our target variable of patient status, we have sixteen features at our disposal to conduct our analysis and prediction. They are as follows: \n",
    "\n",
    "* Race: One of White, Black or Other (American Indian/AK Native, Asian/Pacific Islander).\n",
    "\n",
    "* Marital Status: One of Married, Divorced, Single, Widowed or Separated\n",
    "\n",
    "* T Stage: One of T1, T2, T3 or T4. The T stage describes the size and scope of the primary tumour. Typically, the primary tumour is referred to as the main tumour. The major tumor's size or extension is indicated by the letters T1, T2, T3, and T4. The size of the tumour or the extent of its invasion into neighbouring tissues is indicated by the number after the T. T-T0: There is no sign of a primary tumour. T1 (includes T1a, T1b, and T1c): Tumor is less than or equal to 2 cm (3/4 inch) in size. T2: Tumor has a diameter of at least 2 cm but no greater than 5 cm (2 inches). T3: Tumor is larger than 5 cm in diameter.\n",
    "\n",
    "* N Stage: One of N1, N2 or N3. Typically, the primary tumour is referred to as the main tumour. The N stands for the number of cancerous lymph nodes in the area. The M indicates whether or not the malignancy has spread. This indicates that the cancer has spread outside of the body's original tumour. N1, N2, and N3: These terms describe the quantity and location of lymph nodes that are cancerous. The more cancerous lymph nodes there are, the higher the number following the N.\n",
    "\n",
    "* 6th Stage: One of IIA, IIIA, IIIC, IIB or IIIB. Combining the T, N, and M categories, the tumour grade, and the outcomes of ER/PR and HER2 tests, doctors determine the cancer stage.\n",
    "If surgery is the initial step in treating your cancer, your doctor will often determine the cancer's stage after the final testing results are in, typically 5 to 7 days following surgery.\n",
    "The stage of the malignancy is largely established clinically when systemic treatment is administered before surgery, which is frequently with drugs and is referred to as neoadjuvant therapy.\n",
    "Stage I through stage IIA cancer may be referred to by doctors as \"early stage\" and stage IIB to stage III as \"locally advanced.\"\n",
    "\n",
    "\n",
    "* Status: One of Alive or Dead.\n",
    "\n",
    ">_*TEAM NOTE*_ we need to finish this data explanation of each one of the variables. feel free to delete my volume of text if it destroys the word count. "
   ]
  },
  {
   "cell_type": "markdown",
   "metadata": {},
   "source": [
    "## Exploratory Data Analysis"
   ]
  },
  {
   "cell_type": "markdown",
   "metadata": {},
   "source": [
    "### Loading Necessary Libraries"
   ]
  },
  {
   "cell_type": "code",
   "execution_count": 4,
   "metadata": {
    "vscode": {
     "languageId": "r"
    }
   },
   "outputs": [
    {
     "name": "stderr",
     "output_type": "stream",
     "text": [
      "-- \u001b[1mAttaching packages\u001b[22m --------------------------------------- tidyverse 1.3.2 --\n",
      "\u001b[32mv\u001b[39m \u001b[34mggplot2\u001b[39m 3.3.6      \u001b[32mv\u001b[39m \u001b[34mpurrr  \u001b[39m 0.3.4 \n",
      "\u001b[32mv\u001b[39m \u001b[34mtibble \u001b[39m 3.1.8      \u001b[32mv\u001b[39m \u001b[34mdplyr  \u001b[39m 1.0.10\n",
      "\u001b[32mv\u001b[39m \u001b[34mtidyr  \u001b[39m 1.2.1      \u001b[32mv\u001b[39m \u001b[34mstringr\u001b[39m 1.4.1 \n",
      "\u001b[32mv\u001b[39m \u001b[34mreadr  \u001b[39m 2.1.2      \u001b[32mv\u001b[39m \u001b[34mforcats\u001b[39m 0.5.2 \n",
      "-- \u001b[1mConflicts\u001b[22m ------------------------------------------ tidyverse_conflicts() --\n",
      "\u001b[31mx\u001b[39m \u001b[34mdplyr\u001b[39m::\u001b[32mfilter()\u001b[39m masks \u001b[34mstats\u001b[39m::filter()\n",
      "\u001b[31mx\u001b[39m \u001b[34mdplyr\u001b[39m::\u001b[32mlag()\u001b[39m    masks \u001b[34mstats\u001b[39m::lag()\n"
     ]
    }
   ],
   "source": [
    "library(tidyverse)"
   ]
  },
  {
   "cell_type": "code",
   "execution_count": 9,
   "metadata": {
    "vscode": {
     "languageId": "r"
    }
   },
   "outputs": [
    {
     "data": {
      "text/html": [
       "<table class=\"dataframe\">\n",
       "<caption>A data.frame: 6 × 16</caption>\n",
       "<thead>\n",
       "\t<tr><th></th><th scope=col>Age</th><th scope=col>Race</th><th scope=col>Marital.Status</th><th scope=col>T.Stage</th><th scope=col>N.Stage</th><th scope=col>X6th.Stage</th><th scope=col>differentiate</th><th scope=col>Grade</th><th scope=col>A.Stage</th><th scope=col>Tumor.Size</th><th scope=col>Estrogen.Status</th><th scope=col>Progesterone.Status</th><th scope=col>Regional.Node.Examined</th><th scope=col>Reginol.Node.Positive</th><th scope=col>Survival.Months</th><th scope=col>Status</th></tr>\n",
       "\t<tr><th></th><th scope=col>&lt;int&gt;</th><th scope=col>&lt;chr&gt;</th><th scope=col>&lt;chr&gt;</th><th scope=col>&lt;chr&gt;</th><th scope=col>&lt;chr&gt;</th><th scope=col>&lt;chr&gt;</th><th scope=col>&lt;chr&gt;</th><th scope=col>&lt;chr&gt;</th><th scope=col>&lt;chr&gt;</th><th scope=col>&lt;int&gt;</th><th scope=col>&lt;chr&gt;</th><th scope=col>&lt;chr&gt;</th><th scope=col>&lt;int&gt;</th><th scope=col>&lt;int&gt;</th><th scope=col>&lt;int&gt;</th><th scope=col>&lt;chr&gt;</th></tr>\n",
       "</thead>\n",
       "<tbody>\n",
       "\t<tr><th scope=row>1</th><td>68</td><td>White</td><td>Married </td><td>T1</td><td>N1</td><td>IIA </td><td>Poorly differentiated    </td><td>3</td><td>Regional</td><td> 4</td><td>Positive</td><td>Positive</td><td>24</td><td>1</td><td>60</td><td>Alive</td></tr>\n",
       "\t<tr><th scope=row>2</th><td>50</td><td>White</td><td>Married </td><td>T2</td><td>N2</td><td>IIIA</td><td>Moderately differentiated</td><td>2</td><td>Regional</td><td>35</td><td>Positive</td><td>Positive</td><td>14</td><td>5</td><td>62</td><td>Alive</td></tr>\n",
       "\t<tr><th scope=row>3</th><td>58</td><td>White</td><td>Divorced</td><td>T3</td><td>N3</td><td>IIIC</td><td>Moderately differentiated</td><td>2</td><td>Regional</td><td>63</td><td>Positive</td><td>Positive</td><td>14</td><td>7</td><td>75</td><td>Alive</td></tr>\n",
       "\t<tr><th scope=row>4</th><td>58</td><td>White</td><td>Married </td><td>T1</td><td>N1</td><td>IIA </td><td>Poorly differentiated    </td><td>3</td><td>Regional</td><td>18</td><td>Positive</td><td>Positive</td><td> 2</td><td>1</td><td>84</td><td>Alive</td></tr>\n",
       "\t<tr><th scope=row>5</th><td>47</td><td>White</td><td>Married </td><td>T2</td><td>N1</td><td>IIB </td><td>Poorly differentiated    </td><td>3</td><td>Regional</td><td>41</td><td>Positive</td><td>Positive</td><td> 3</td><td>1</td><td>50</td><td>Alive</td></tr>\n",
       "\t<tr><th scope=row>6</th><td>51</td><td>White</td><td>Single  </td><td>T1</td><td>N1</td><td>IIA </td><td>Moderately differentiated</td><td>2</td><td>Regional</td><td>20</td><td>Positive</td><td>Positive</td><td>18</td><td>2</td><td>89</td><td>Alive</td></tr>\n",
       "</tbody>\n",
       "</table>\n"
      ],
      "text/latex": [
       "A data.frame: 6 × 16\n",
       "\\begin{tabular}{r|llllllllllllllll}\n",
       "  & Age & Race & Marital.Status & T.Stage & N.Stage & X6th.Stage & differentiate & Grade & A.Stage & Tumor.Size & Estrogen.Status & Progesterone.Status & Regional.Node.Examined & Reginol.Node.Positive & Survival.Months & Status\\\\\n",
       "  & <int> & <chr> & <chr> & <chr> & <chr> & <chr> & <chr> & <chr> & <chr> & <int> & <chr> & <chr> & <int> & <int> & <int> & <chr>\\\\\n",
       "\\hline\n",
       "\t1 & 68 & White & Married  & T1 & N1 & IIA  & Poorly differentiated     & 3 & Regional &  4 & Positive & Positive & 24 & 1 & 60 & Alive\\\\\n",
       "\t2 & 50 & White & Married  & T2 & N2 & IIIA & Moderately differentiated & 2 & Regional & 35 & Positive & Positive & 14 & 5 & 62 & Alive\\\\\n",
       "\t3 & 58 & White & Divorced & T3 & N3 & IIIC & Moderately differentiated & 2 & Regional & 63 & Positive & Positive & 14 & 7 & 75 & Alive\\\\\n",
       "\t4 & 58 & White & Married  & T1 & N1 & IIA  & Poorly differentiated     & 3 & Regional & 18 & Positive & Positive &  2 & 1 & 84 & Alive\\\\\n",
       "\t5 & 47 & White & Married  & T2 & N1 & IIB  & Poorly differentiated     & 3 & Regional & 41 & Positive & Positive &  3 & 1 & 50 & Alive\\\\\n",
       "\t6 & 51 & White & Single   & T1 & N1 & IIA  & Moderately differentiated & 2 & Regional & 20 & Positive & Positive & 18 & 2 & 89 & Alive\\\\\n",
       "\\end{tabular}\n"
      ],
      "text/markdown": [
       "\n",
       "A data.frame: 6 × 16\n",
       "\n",
       "| <!--/--> | Age &lt;int&gt; | Race &lt;chr&gt; | Marital.Status &lt;chr&gt; | T.Stage &lt;chr&gt; | N.Stage &lt;chr&gt; | X6th.Stage &lt;chr&gt; | differentiate &lt;chr&gt; | Grade &lt;chr&gt; | A.Stage &lt;chr&gt; | Tumor.Size &lt;int&gt; | Estrogen.Status &lt;chr&gt; | Progesterone.Status &lt;chr&gt; | Regional.Node.Examined &lt;int&gt; | Reginol.Node.Positive &lt;int&gt; | Survival.Months &lt;int&gt; | Status &lt;chr&gt; |\n",
       "|---|---|---|---|---|---|---|---|---|---|---|---|---|---|---|---|---|\n",
       "| 1 | 68 | White | Married  | T1 | N1 | IIA  | Poorly differentiated     | 3 | Regional |  4 | Positive | Positive | 24 | 1 | 60 | Alive |\n",
       "| 2 | 50 | White | Married  | T2 | N2 | IIIA | Moderately differentiated | 2 | Regional | 35 | Positive | Positive | 14 | 5 | 62 | Alive |\n",
       "| 3 | 58 | White | Divorced | T3 | N3 | IIIC | Moderately differentiated | 2 | Regional | 63 | Positive | Positive | 14 | 7 | 75 | Alive |\n",
       "| 4 | 58 | White | Married  | T1 | N1 | IIA  | Poorly differentiated     | 3 | Regional | 18 | Positive | Positive |  2 | 1 | 84 | Alive |\n",
       "| 5 | 47 | White | Married  | T2 | N1 | IIB  | Poorly differentiated     | 3 | Regional | 41 | Positive | Positive |  3 | 1 | 50 | Alive |\n",
       "| 6 | 51 | White | Single   | T1 | N1 | IIA  | Moderately differentiated | 2 | Regional | 20 | Positive | Positive | 18 | 2 | 89 | Alive |\n",
       "\n"
      ],
      "text/plain": [
       "  Age Race  Marital.Status T.Stage N.Stage X6th.Stage differentiate            \n",
       "1 68  White Married        T1      N1      IIA        Poorly differentiated    \n",
       "2 50  White Married        T2      N2      IIIA       Moderately differentiated\n",
       "3 58  White Divorced       T3      N3      IIIC       Moderately differentiated\n",
       "4 58  White Married        T1      N1      IIA        Poorly differentiated    \n",
       "5 47  White Married        T2      N1      IIB        Poorly differentiated    \n",
       "6 51  White Single         T1      N1      IIA        Moderately differentiated\n",
       "  Grade A.Stage  Tumor.Size Estrogen.Status Progesterone.Status\n",
       "1 3     Regional  4         Positive        Positive           \n",
       "2 2     Regional 35         Positive        Positive           \n",
       "3 2     Regional 63         Positive        Positive           \n",
       "4 3     Regional 18         Positive        Positive           \n",
       "5 3     Regional 41         Positive        Positive           \n",
       "6 2     Regional 20         Positive        Positive           \n",
       "  Regional.Node.Examined Reginol.Node.Positive Survival.Months Status\n",
       "1 24                     1                     60              Alive \n",
       "2 14                     5                     62              Alive \n",
       "3 14                     7                     75              Alive \n",
       "4  2                     1                     84              Alive \n",
       "5  3                     1                     50              Alive \n",
       "6 18                     2                     89              Alive "
      ]
     },
     "metadata": {},
     "output_type": "display_data"
    },
    {
     "data": {
      "text/html": [
       "4024"
      ],
      "text/latex": [
       "4024"
      ],
      "text/markdown": [
       "4024"
      ],
      "text/plain": [
       "[1] 4024"
      ]
     },
     "metadata": {},
     "output_type": "display_data"
    }
   ],
   "source": [
    "cancer_dataset = read.csv(\"./Breast_Cancer.csv\")\n",
    "head(cancer_dataset)\n"
   ]
  },
  {
   "cell_type": "code",
   "execution_count": 14,
   "metadata": {
    "vscode": {
     "languageId": "r"
    }
   },
   "outputs": [
    {
     "data": {
      "text/html": [
       "<style>\n",
       ".list-inline {list-style: none; margin:0; padding: 0}\n",
       ".list-inline>li {display: inline-block}\n",
       ".list-inline>li:not(:last-child)::after {content: \"\\00b7\"; padding: 0 .5ex}\n",
       "</style>\n",
       "<ol class=list-inline><li>'Age'</li><li>'Race'</li><li>'Marital.Status'</li><li>'T.Stage'</li><li>'N.Stage'</li><li>'X6th.Stage'</li><li>'differentiate'</li><li>'Grade'</li><li>'A.Stage'</li><li>'Tumor.Size'</li><li>'Estrogen.Status'</li><li>'Progesterone.Status'</li><li>'Regional.Node.Examined'</li><li>'Reginol.Node.Positive'</li><li>'Survival.Months'</li></ol>\n"
      ],
      "text/latex": [
       "\\begin{enumerate*}\n",
       "\\item 'Age'\n",
       "\\item 'Race'\n",
       "\\item 'Marital.Status'\n",
       "\\item 'T.Stage'\n",
       "\\item 'N.Stage'\n",
       "\\item 'X6th.Stage'\n",
       "\\item 'differentiate'\n",
       "\\item 'Grade'\n",
       "\\item 'A.Stage'\n",
       "\\item 'Tumor.Size'\n",
       "\\item 'Estrogen.Status'\n",
       "\\item 'Progesterone.Status'\n",
       "\\item 'Regional.Node.Examined'\n",
       "\\item 'Reginol.Node.Positive'\n",
       "\\item 'Survival.Months'\n",
       "\\end{enumerate*}\n"
      ],
      "text/markdown": [
       "1. 'Age'\n",
       "2. 'Race'\n",
       "3. 'Marital.Status'\n",
       "4. 'T.Stage'\n",
       "5. 'N.Stage'\n",
       "6. 'X6th.Stage'\n",
       "7. 'differentiate'\n",
       "8. 'Grade'\n",
       "9. 'A.Stage'\n",
       "10. 'Tumor.Size'\n",
       "11. 'Estrogen.Status'\n",
       "12. 'Progesterone.Status'\n",
       "13. 'Regional.Node.Examined'\n",
       "14. 'Reginol.Node.Positive'\n",
       "15. 'Survival.Months'\n",
       "\n",
       "\n"
      ],
      "text/plain": [
       " [1] \"Age\"                    \"Race\"                   \"Marital.Status\"        \n",
       " [4] \"T.Stage\"                \"N.Stage\"                \"X6th.Stage\"            \n",
       " [7] \"differentiate\"          \"Grade\"                  \"A.Stage\"               \n",
       "[10] \"Tumor.Size\"             \"Estrogen.Status\"        \"Progesterone.Status\"   \n",
       "[13] \"Regional.Node.Examined\" \"Reginol.Node.Positive\"  \"Survival.Months\"       "
      ]
     },
     "metadata": {},
     "output_type": "display_data"
    },
    {
     "name": "stdout",
     "output_type": "stream",
     "text": [
      "The dimensions of our dataset are:  4024 16"
     ]
    }
   ],
   "source": [
    "column_names = colnames(cancer_dataset)\n",
    "features = column_names[-length(column_names)]\n",
    "features\n",
    "cat(\"The dimensions of our dataset are: \", dim(cancer_dataset))"
   ]
  },
  {
   "cell_type": "markdown",
   "metadata": {},
   "source": [
    "We have fifteen possible features, listed above that can help us gauge the status of a patient given these features of their cancer condition. "
   ]
  },
  {
   "cell_type": "markdown",
   "metadata": {},
   "source": [
    "## Data Preprocessing"
   ]
  },
  {
   "cell_type": "markdown",
   "metadata": {},
   "source": [
    "## Methods for Experimentation "
   ]
  },
  {
   "cell_type": "markdown",
   "metadata": {},
   "source": []
  }
 ],
 "metadata": {
  "kernelspec": {
   "display_name": "R",
   "language": "R",
   "name": "ir"
  },
  "language_info": {
   "codemirror_mode": "r",
   "file_extension": ".r",
   "mimetype": "text/x-r-source",
   "name": "R",
   "pygments_lexer": "r",
   "version": "4.2.1"
  },
  "orig_nbformat": 4
 },
 "nbformat": 4,
 "nbformat_minor": 2
}
