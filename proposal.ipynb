{
 "cells": [
  {
   "cell_type": "markdown",
   "metadata": {},
   "source": [
    "## Classifying Patient Mortality from Breast Cancer Data"
   ]
  },
  {
   "cell_type": "markdown",
   "metadata": {},
   "source": [
    "Breast cancer is the most common malignancy among Canadian women (excluding non-melanoma skin cancers). It is the second most typical cancer-related cause of mortality among Canadian women. Breast cancer in men is rare yet it is possible. Invasive ductal carcinoma (IDC), which makes up around 80% of cases, is one of the most common types of breast cancer. It is particularly dangerous since it is nefarious and has the capacity to spread. To get minute tissue samples, a biopsy is commonly carried out. A pathologist will next evaluate if the patient has IDC, an additional kind of breast cancer, or is in good health. \n",
    "\n",
    "Projections show that in 2022:\n",
    "\n",
    "* 28,600 Canadian women will be diagnosed with breast cancer. This will represent 25% of all new cases of cancer in women in 2022.\n",
    "\n",
    "* 5,500 Canadian women will die from breast cancer. This will be the cause of 14% of all female cancer deaths in 2022.\n",
    "\n",
    "* 78 Canadian women will be told they have breast cancer every day.\n",
    "\n",
    "* In Canada, 1 in 8 women will eventually get breast cancer, and 1 in 34 will pass away from it. \n",
    "\n",
    "This dataset of breast cancer patients was published in the November 2017 update of the SEER Program of the NCI, which provides information on population-based cancer statistics. The dataset includes female patients who were diagnosed with infiltrating ductal and lobular carcinoma in their breasts between 2006 and 2010 (SEER primary cites recode NOS histology codes 8522/3). 4024 people were ultimately included after patients with unsure tumour sizes, explored regional LNs, positive regional LNs, and patients with survival periods of less than a month were all excluded. "
   ]
  },
  {
   "cell_type": "markdown",
   "metadata": {},
   "source": [
    "\n",
    "\n",
    "## Description of Variables\n"
   ]
  },
  {
   "cell_type": "markdown",
   "metadata": {},
   "source": [
    "Amounting our target variable of patient status, we have sixteen features at our disposal to conduct our analysis and prediction. They are as follows: \n",
    "\n",
    "* Race: One of White, Black or Other (American Indian/AK Native, Asian/Pacific Islander).\n",
    "\n",
    "* Marital Status: One of Married, Divorced, Single, Widowed or Separated\n",
    "\n",
    "* T Stage: One of T1, T2, T3 or T4. The T stage describes the size and scope of the primary tumour. Typically, the primary tumour is referred to as the main tumour. The major tumor's size or extension is indicated by the letters T1, T2, T3, and T4. The size of the tumour or the extent of its invasion into neighbouring tissues is indicated by the number after the T. T-T0: There is no sign of a primary tumour. T1 (includes T1a, T1b, and T1c): Tumor is less than or equal to 2 cm (3/4 inch) in size. T2: Tumor has a diameter of at least 2 cm but no greater than 5 cm (2 inches). T3: Tumor is larger than 5 cm in diameter.\n",
    "\n",
    "* N Stage: One of N1, N2 or N3. Typically, the primary tumour is referred to as the main tumour. The N stands for the number of cancerous lymph nodes in the area. The M indicates whether or not the malignancy has spread. This indicates that the cancer has spread outside of the body's original tumour. N1, N2, and N3: These terms describe the quantity and location of lymph nodes that are cancerous. The more cancerous lymph nodes there are, the higher the number following the N.\n",
    "\n",
    "* 6th Stage: One of IIA, IIIA, IIIC, IIB or IIIB. Combining the T, N, and M categories, the tumour grade, and the outcomes of ER/PR and HER2 tests, doctors determine the cancer stage.\n",
    "If surgery is the initial step in treating your cancer, your doctor will often determine the cancer's stage after the final testing results are in, typically 5 to 7 days following surgery.\n",
    "The stage of the malignancy is largely established clinically when systemic treatment is administered before surgery, which is frequently with drugs and is referred to as neoadjuvant therapy.\n",
    "Stage I through stage IIA cancer may be referred to by doctors as \"early stage\" and stage IIB to stage III as \"locally advanced.\"\n",
    "\n",
    "\n",
    "* Status: One of Alive or Dead.\n",
    "\n",
    ">_*TEAM NOTE*_ we need to finish this data explanation of each one of the variables. feel free to delete my volume of text if it destroys the word count. "
   ]
  },
  {
   "cell_type": "markdown",
   "metadata": {},
   "source": [
    "## Exploratory Data Analysis"
   ]
  },
  {
   "cell_type": "markdown",
   "metadata": {},
   "source": [
    "### Loading Necessary Libraries"
   ]
  },
  {
   "cell_type": "code",
   "execution_count": 21,
   "metadata": {
    "vscode": {
     "languageId": "r"
    }
   },
   "outputs": [],
   "source": [
    "library(tidyverse)"
   ]
  },
  {
   "cell_type": "code",
   "execution_count": 22,
   "metadata": {
    "vscode": {
     "languageId": "r"
    }
   },
   "outputs": [
    {
     "data": {
      "text/html": [
       "<table class=\"dataframe\">\n",
       "<caption>A data.frame: 10 × 16</caption>\n",
       "<thead>\n",
       "\t<tr><th></th><th scope=col>Age</th><th scope=col>Race</th><th scope=col>Marital.Status</th><th scope=col>T.Stage</th><th scope=col>N.Stage</th><th scope=col>X6th.Stage</th><th scope=col>differentiate</th><th scope=col>Grade</th><th scope=col>A.Stage</th><th scope=col>Tumor.Size</th><th scope=col>Estrogen.Status</th><th scope=col>Progesterone.Status</th><th scope=col>Regional.Node.Examined</th><th scope=col>Regional.Node.Positive</th><th scope=col>Survival.Months</th><th scope=col>Status</th></tr>\n",
       "\t<tr><th></th><th scope=col>&lt;int&gt;</th><th scope=col>&lt;chr&gt;</th><th scope=col>&lt;chr&gt;</th><th scope=col>&lt;chr&gt;</th><th scope=col>&lt;chr&gt;</th><th scope=col>&lt;chr&gt;</th><th scope=col>&lt;chr&gt;</th><th scope=col>&lt;chr&gt;</th><th scope=col>&lt;chr&gt;</th><th scope=col>&lt;int&gt;</th><th scope=col>&lt;chr&gt;</th><th scope=col>&lt;chr&gt;</th><th scope=col>&lt;int&gt;</th><th scope=col>&lt;int&gt;</th><th scope=col>&lt;int&gt;</th><th scope=col>&lt;chr&gt;</th></tr>\n",
       "</thead>\n",
       "<tbody>\n",
       "\t<tr><th scope=row>1</th><td>68</td><td>White</td><td>Married </td><td>T1</td><td>N1</td><td>IIA </td><td>Poorly differentiated    </td><td>3</td><td>Regional</td><td>  4</td><td>Positive</td><td>Positive</td><td>24</td><td> 1</td><td>60</td><td>Alive</td></tr>\n",
       "\t<tr><th scope=row>2</th><td>50</td><td>White</td><td>Married </td><td>T2</td><td>N2</td><td>IIIA</td><td>Moderately differentiated</td><td>2</td><td>Regional</td><td> 35</td><td>Positive</td><td>Positive</td><td>14</td><td> 5</td><td>62</td><td>Alive</td></tr>\n",
       "\t<tr><th scope=row>3</th><td>58</td><td>White</td><td>Divorced</td><td>T3</td><td>N3</td><td>IIIC</td><td>Moderately differentiated</td><td>2</td><td>Regional</td><td> 63</td><td>Positive</td><td>Positive</td><td>14</td><td> 7</td><td>75</td><td>Alive</td></tr>\n",
       "\t<tr><th scope=row>4</th><td>58</td><td>White</td><td>Married </td><td>T1</td><td>N1</td><td>IIA </td><td>Poorly differentiated    </td><td>3</td><td>Regional</td><td> 18</td><td>Positive</td><td>Positive</td><td> 2</td><td> 1</td><td>84</td><td>Alive</td></tr>\n",
       "\t<tr><th scope=row>5</th><td>47</td><td>White</td><td>Married </td><td>T2</td><td>N1</td><td>IIB </td><td>Poorly differentiated    </td><td>3</td><td>Regional</td><td> 41</td><td>Positive</td><td>Positive</td><td> 3</td><td> 1</td><td>50</td><td>Alive</td></tr>\n",
       "\t<tr><th scope=row>6</th><td>51</td><td>White</td><td>Single  </td><td>T1</td><td>N1</td><td>IIA </td><td>Moderately differentiated</td><td>2</td><td>Regional</td><td> 20</td><td>Positive</td><td>Positive</td><td>18</td><td> 2</td><td>89</td><td>Alive</td></tr>\n",
       "\t<tr><th scope=row>7</th><td>51</td><td>White</td><td>Married </td><td>T1</td><td>N1</td><td>IIA </td><td>Well differentiated      </td><td>1</td><td>Regional</td><td>  8</td><td>Positive</td><td>Positive</td><td>11</td><td> 1</td><td>54</td><td>Alive</td></tr>\n",
       "\t<tr><th scope=row>8</th><td>40</td><td>White</td><td>Married </td><td>T2</td><td>N1</td><td>IIB </td><td>Moderately differentiated</td><td>2</td><td>Regional</td><td> 30</td><td>Positive</td><td>Positive</td><td> 9</td><td> 1</td><td>14</td><td>Dead </td></tr>\n",
       "\t<tr><th scope=row>9</th><td>40</td><td>White</td><td>Divorced</td><td>T4</td><td>N3</td><td>IIIC</td><td>Poorly differentiated    </td><td>3</td><td>Regional</td><td>103</td><td>Positive</td><td>Positive</td><td>20</td><td>18</td><td>70</td><td>Alive</td></tr>\n",
       "\t<tr><th scope=row>10</th><td>69</td><td>White</td><td>Married </td><td>T4</td><td>N3</td><td>IIIC</td><td>Well differentiated      </td><td>1</td><td>Distant </td><td> 32</td><td>Positive</td><td>Positive</td><td>21</td><td>12</td><td>92</td><td>Alive</td></tr>\n",
       "</tbody>\n",
       "</table>\n"
      ],
      "text/latex": [
       "A data.frame: 10 × 16\n",
       "\\begin{tabular}{r|llllllllllllllll}\n",
       "  & Age & Race & Marital.Status & T.Stage & N.Stage & X6th.Stage & differentiate & Grade & A.Stage & Tumor.Size & Estrogen.Status & Progesterone.Status & Regional.Node.Examined & Regional.Node.Positive & Survival.Months & Status\\\\\n",
       "  & <int> & <chr> & <chr> & <chr> & <chr> & <chr> & <chr> & <chr> & <chr> & <int> & <chr> & <chr> & <int> & <int> & <int> & <chr>\\\\\n",
       "\\hline\n",
       "\t1 & 68 & White & Married  & T1 & N1 & IIA  & Poorly differentiated     & 3 & Regional &   4 & Positive & Positive & 24 &  1 & 60 & Alive\\\\\n",
       "\t2 & 50 & White & Married  & T2 & N2 & IIIA & Moderately differentiated & 2 & Regional &  35 & Positive & Positive & 14 &  5 & 62 & Alive\\\\\n",
       "\t3 & 58 & White & Divorced & T3 & N3 & IIIC & Moderately differentiated & 2 & Regional &  63 & Positive & Positive & 14 &  7 & 75 & Alive\\\\\n",
       "\t4 & 58 & White & Married  & T1 & N1 & IIA  & Poorly differentiated     & 3 & Regional &  18 & Positive & Positive &  2 &  1 & 84 & Alive\\\\\n",
       "\t5 & 47 & White & Married  & T2 & N1 & IIB  & Poorly differentiated     & 3 & Regional &  41 & Positive & Positive &  3 &  1 & 50 & Alive\\\\\n",
       "\t6 & 51 & White & Single   & T1 & N1 & IIA  & Moderately differentiated & 2 & Regional &  20 & Positive & Positive & 18 &  2 & 89 & Alive\\\\\n",
       "\t7 & 51 & White & Married  & T1 & N1 & IIA  & Well differentiated       & 1 & Regional &   8 & Positive & Positive & 11 &  1 & 54 & Alive\\\\\n",
       "\t8 & 40 & White & Married  & T2 & N1 & IIB  & Moderately differentiated & 2 & Regional &  30 & Positive & Positive &  9 &  1 & 14 & Dead \\\\\n",
       "\t9 & 40 & White & Divorced & T4 & N3 & IIIC & Poorly differentiated     & 3 & Regional & 103 & Positive & Positive & 20 & 18 & 70 & Alive\\\\\n",
       "\t10 & 69 & White & Married  & T4 & N3 & IIIC & Well differentiated       & 1 & Distant  &  32 & Positive & Positive & 21 & 12 & 92 & Alive\\\\\n",
       "\\end{tabular}\n"
      ],
      "text/markdown": [
       "\n",
       "A data.frame: 10 × 16\n",
       "\n",
       "| <!--/--> | Age &lt;int&gt; | Race &lt;chr&gt; | Marital.Status &lt;chr&gt; | T.Stage &lt;chr&gt; | N.Stage &lt;chr&gt; | X6th.Stage &lt;chr&gt; | differentiate &lt;chr&gt; | Grade &lt;chr&gt; | A.Stage &lt;chr&gt; | Tumor.Size &lt;int&gt; | Estrogen.Status &lt;chr&gt; | Progesterone.Status &lt;chr&gt; | Regional.Node.Examined &lt;int&gt; | Regional.Node.Positive &lt;int&gt; | Survival.Months &lt;int&gt; | Status &lt;chr&gt; |\n",
       "|---|---|---|---|---|---|---|---|---|---|---|---|---|---|---|---|---|\n",
       "| 1 | 68 | White | Married  | T1 | N1 | IIA  | Poorly differentiated     | 3 | Regional |   4 | Positive | Positive | 24 |  1 | 60 | Alive |\n",
       "| 2 | 50 | White | Married  | T2 | N2 | IIIA | Moderately differentiated | 2 | Regional |  35 | Positive | Positive | 14 |  5 | 62 | Alive |\n",
       "| 3 | 58 | White | Divorced | T3 | N3 | IIIC | Moderately differentiated | 2 | Regional |  63 | Positive | Positive | 14 |  7 | 75 | Alive |\n",
       "| 4 | 58 | White | Married  | T1 | N1 | IIA  | Poorly differentiated     | 3 | Regional |  18 | Positive | Positive |  2 |  1 | 84 | Alive |\n",
       "| 5 | 47 | White | Married  | T2 | N1 | IIB  | Poorly differentiated     | 3 | Regional |  41 | Positive | Positive |  3 |  1 | 50 | Alive |\n",
       "| 6 | 51 | White | Single   | T1 | N1 | IIA  | Moderately differentiated | 2 | Regional |  20 | Positive | Positive | 18 |  2 | 89 | Alive |\n",
       "| 7 | 51 | White | Married  | T1 | N1 | IIA  | Well differentiated       | 1 | Regional |   8 | Positive | Positive | 11 |  1 | 54 | Alive |\n",
       "| 8 | 40 | White | Married  | T2 | N1 | IIB  | Moderately differentiated | 2 | Regional |  30 | Positive | Positive |  9 |  1 | 14 | Dead  |\n",
       "| 9 | 40 | White | Divorced | T4 | N3 | IIIC | Poorly differentiated     | 3 | Regional | 103 | Positive | Positive | 20 | 18 | 70 | Alive |\n",
       "| 10 | 69 | White | Married  | T4 | N3 | IIIC | Well differentiated       | 1 | Distant  |  32 | Positive | Positive | 21 | 12 | 92 | Alive |\n",
       "\n"
      ],
      "text/plain": [
       "   Age Race  Marital.Status T.Stage N.Stage X6th.Stage\n",
       "1  68  White Married        T1      N1      IIA       \n",
       "2  50  White Married        T2      N2      IIIA      \n",
       "3  58  White Divorced       T3      N3      IIIC      \n",
       "4  58  White Married        T1      N1      IIA       \n",
       "5  47  White Married        T2      N1      IIB       \n",
       "6  51  White Single         T1      N1      IIA       \n",
       "7  51  White Married        T1      N1      IIA       \n",
       "8  40  White Married        T2      N1      IIB       \n",
       "9  40  White Divorced       T4      N3      IIIC      \n",
       "10 69  White Married        T4      N3      IIIC      \n",
       "   differentiate             Grade A.Stage  Tumor.Size Estrogen.Status\n",
       "1  Poorly differentiated     3     Regional   4        Positive       \n",
       "2  Moderately differentiated 2     Regional  35        Positive       \n",
       "3  Moderately differentiated 2     Regional  63        Positive       \n",
       "4  Poorly differentiated     3     Regional  18        Positive       \n",
       "5  Poorly differentiated     3     Regional  41        Positive       \n",
       "6  Moderately differentiated 2     Regional  20        Positive       \n",
       "7  Well differentiated       1     Regional   8        Positive       \n",
       "8  Moderately differentiated 2     Regional  30        Positive       \n",
       "9  Poorly differentiated     3     Regional 103        Positive       \n",
       "10 Well differentiated       1     Distant   32        Positive       \n",
       "   Progesterone.Status Regional.Node.Examined Regional.Node.Positive\n",
       "1  Positive            24                      1                    \n",
       "2  Positive            14                      5                    \n",
       "3  Positive            14                      7                    \n",
       "4  Positive             2                      1                    \n",
       "5  Positive             3                      1                    \n",
       "6  Positive            18                      2                    \n",
       "7  Positive            11                      1                    \n",
       "8  Positive             9                      1                    \n",
       "9  Positive            20                     18                    \n",
       "10 Positive            21                     12                    \n",
       "   Survival.Months Status\n",
       "1  60              Alive \n",
       "2  62              Alive \n",
       "3  75              Alive \n",
       "4  84              Alive \n",
       "5  50              Alive \n",
       "6  89              Alive \n",
       "7  54              Alive \n",
       "8  14              Dead  \n",
       "9  70              Alive \n",
       "10 92              Alive "
      ]
     },
     "metadata": {},
     "output_type": "display_data"
    },
    {
     "data": {
      "text/html": [
       "<table class=\"dataframe\">\n",
       "<caption>A data.frame: 10 × 16</caption>\n",
       "<thead>\n",
       "\t<tr><th></th><th scope=col>Age</th><th scope=col>Race</th><th scope=col>Marital.Status</th><th scope=col>T.Stage</th><th scope=col>N.Stage</th><th scope=col>X6th.Stage</th><th scope=col>differentiate</th><th scope=col>Grade</th><th scope=col>A.Stage</th><th scope=col>Tumor.Size</th><th scope=col>Estrogen.Status</th><th scope=col>Progesterone.Status</th><th scope=col>Regional.Node.Examined</th><th scope=col>Regional.Node.Positive</th><th scope=col>Survival.Months</th><th scope=col>Status</th></tr>\n",
       "\t<tr><th></th><th scope=col>&lt;int&gt;</th><th scope=col>&lt;chr&gt;</th><th scope=col>&lt;chr&gt;</th><th scope=col>&lt;chr&gt;</th><th scope=col>&lt;chr&gt;</th><th scope=col>&lt;chr&gt;</th><th scope=col>&lt;chr&gt;</th><th scope=col>&lt;chr&gt;</th><th scope=col>&lt;chr&gt;</th><th scope=col>&lt;int&gt;</th><th scope=col>&lt;chr&gt;</th><th scope=col>&lt;chr&gt;</th><th scope=col>&lt;int&gt;</th><th scope=col>&lt;int&gt;</th><th scope=col>&lt;int&gt;</th><th scope=col>&lt;chr&gt;</th></tr>\n",
       "</thead>\n",
       "<tbody>\n",
       "\t<tr><th scope=row>4015</th><td>40</td><td>White</td><td>Married </td><td>T3</td><td>N1</td><td>IIIA</td><td>Moderately differentiated</td><td>2</td><td>Regional</td><td>68</td><td>Positive</td><td>Positive</td><td>22</td><td>2</td><td> 86</td><td>Alive</td></tr>\n",
       "\t<tr><th scope=row>4016</th><td>65</td><td>White</td><td>Married </td><td>T2</td><td>N2</td><td>IIIA</td><td>Moderately differentiated</td><td>2</td><td>Regional</td><td>40</td><td>Positive</td><td>Positive</td><td> 4</td><td>4</td><td> 68</td><td>Alive</td></tr>\n",
       "\t<tr><th scope=row>4017</th><td>54</td><td>White</td><td>Married </td><td>T2</td><td>N1</td><td>IIB </td><td>Well differentiated      </td><td>1</td><td>Regional</td><td>50</td><td>Positive</td><td>Positive</td><td>29</td><td>2</td><td> 52</td><td>Alive</td></tr>\n",
       "\t<tr><th scope=row>4018</th><td>46</td><td>White</td><td>Married </td><td>T2</td><td>N1</td><td>IIB </td><td>Moderately differentiated</td><td>2</td><td>Regional</td><td>28</td><td>Negative</td><td>Negative</td><td> 2</td><td>1</td><td> 19</td><td>Dead </td></tr>\n",
       "\t<tr><th scope=row>4019</th><td>64</td><td>White</td><td>Married </td><td>T1</td><td>N1</td><td>IIA </td><td>Moderately differentiated</td><td>2</td><td>Regional</td><td>10</td><td>Positive</td><td>Positive</td><td>11</td><td>1</td><td> 70</td><td>Alive</td></tr>\n",
       "\t<tr><th scope=row>4020</th><td>62</td><td>Other</td><td>Married </td><td>T1</td><td>N1</td><td>IIA </td><td>Moderately differentiated</td><td>2</td><td>Regional</td><td> 9</td><td>Positive</td><td>Positive</td><td> 1</td><td>1</td><td> 49</td><td>Alive</td></tr>\n",
       "\t<tr><th scope=row>4021</th><td>56</td><td>White</td><td>Divorced</td><td>T2</td><td>N2</td><td>IIIA</td><td>Moderately differentiated</td><td>2</td><td>Regional</td><td>46</td><td>Positive</td><td>Positive</td><td>14</td><td>8</td><td> 69</td><td>Alive</td></tr>\n",
       "\t<tr><th scope=row>4022</th><td>68</td><td>White</td><td>Married </td><td>T2</td><td>N1</td><td>IIB </td><td>Moderately differentiated</td><td>2</td><td>Regional</td><td>22</td><td>Positive</td><td>Negative</td><td>11</td><td>3</td><td> 69</td><td>Alive</td></tr>\n",
       "\t<tr><th scope=row>4023</th><td>58</td><td>Black</td><td>Divorced</td><td>T2</td><td>N1</td><td>IIB </td><td>Moderately differentiated</td><td>2</td><td>Regional</td><td>44</td><td>Positive</td><td>Positive</td><td>11</td><td>1</td><td> 72</td><td>Alive</td></tr>\n",
       "\t<tr><th scope=row>4024</th><td>46</td><td>White</td><td>Married </td><td>T2</td><td>N1</td><td>IIB </td><td>Moderately differentiated</td><td>2</td><td>Regional</td><td>30</td><td>Positive</td><td>Positive</td><td> 7</td><td>2</td><td>100</td><td>Alive</td></tr>\n",
       "</tbody>\n",
       "</table>\n"
      ],
      "text/latex": [
       "A data.frame: 10 × 16\n",
       "\\begin{tabular}{r|llllllllllllllll}\n",
       "  & Age & Race & Marital.Status & T.Stage & N.Stage & X6th.Stage & differentiate & Grade & A.Stage & Tumor.Size & Estrogen.Status & Progesterone.Status & Regional.Node.Examined & Regional.Node.Positive & Survival.Months & Status\\\\\n",
       "  & <int> & <chr> & <chr> & <chr> & <chr> & <chr> & <chr> & <chr> & <chr> & <int> & <chr> & <chr> & <int> & <int> & <int> & <chr>\\\\\n",
       "\\hline\n",
       "\t4015 & 40 & White & Married  & T3 & N1 & IIIA & Moderately differentiated & 2 & Regional & 68 & Positive & Positive & 22 & 2 &  86 & Alive\\\\\n",
       "\t4016 & 65 & White & Married  & T2 & N2 & IIIA & Moderately differentiated & 2 & Regional & 40 & Positive & Positive &  4 & 4 &  68 & Alive\\\\\n",
       "\t4017 & 54 & White & Married  & T2 & N1 & IIB  & Well differentiated       & 1 & Regional & 50 & Positive & Positive & 29 & 2 &  52 & Alive\\\\\n",
       "\t4018 & 46 & White & Married  & T2 & N1 & IIB  & Moderately differentiated & 2 & Regional & 28 & Negative & Negative &  2 & 1 &  19 & Dead \\\\\n",
       "\t4019 & 64 & White & Married  & T1 & N1 & IIA  & Moderately differentiated & 2 & Regional & 10 & Positive & Positive & 11 & 1 &  70 & Alive\\\\\n",
       "\t4020 & 62 & Other & Married  & T1 & N1 & IIA  & Moderately differentiated & 2 & Regional &  9 & Positive & Positive &  1 & 1 &  49 & Alive\\\\\n",
       "\t4021 & 56 & White & Divorced & T2 & N2 & IIIA & Moderately differentiated & 2 & Regional & 46 & Positive & Positive & 14 & 8 &  69 & Alive\\\\\n",
       "\t4022 & 68 & White & Married  & T2 & N1 & IIB  & Moderately differentiated & 2 & Regional & 22 & Positive & Negative & 11 & 3 &  69 & Alive\\\\\n",
       "\t4023 & 58 & Black & Divorced & T2 & N1 & IIB  & Moderately differentiated & 2 & Regional & 44 & Positive & Positive & 11 & 1 &  72 & Alive\\\\\n",
       "\t4024 & 46 & White & Married  & T2 & N1 & IIB  & Moderately differentiated & 2 & Regional & 30 & Positive & Positive &  7 & 2 & 100 & Alive\\\\\n",
       "\\end{tabular}\n"
      ],
      "text/markdown": [
       "\n",
       "A data.frame: 10 × 16\n",
       "\n",
       "| <!--/--> | Age &lt;int&gt; | Race &lt;chr&gt; | Marital.Status &lt;chr&gt; | T.Stage &lt;chr&gt; | N.Stage &lt;chr&gt; | X6th.Stage &lt;chr&gt; | differentiate &lt;chr&gt; | Grade &lt;chr&gt; | A.Stage &lt;chr&gt; | Tumor.Size &lt;int&gt; | Estrogen.Status &lt;chr&gt; | Progesterone.Status &lt;chr&gt; | Regional.Node.Examined &lt;int&gt; | Regional.Node.Positive &lt;int&gt; | Survival.Months &lt;int&gt; | Status &lt;chr&gt; |\n",
       "|---|---|---|---|---|---|---|---|---|---|---|---|---|---|---|---|---|\n",
       "| 4015 | 40 | White | Married  | T3 | N1 | IIIA | Moderately differentiated | 2 | Regional | 68 | Positive | Positive | 22 | 2 |  86 | Alive |\n",
       "| 4016 | 65 | White | Married  | T2 | N2 | IIIA | Moderately differentiated | 2 | Regional | 40 | Positive | Positive |  4 | 4 |  68 | Alive |\n",
       "| 4017 | 54 | White | Married  | T2 | N1 | IIB  | Well differentiated       | 1 | Regional | 50 | Positive | Positive | 29 | 2 |  52 | Alive |\n",
       "| 4018 | 46 | White | Married  | T2 | N1 | IIB  | Moderately differentiated | 2 | Regional | 28 | Negative | Negative |  2 | 1 |  19 | Dead  |\n",
       "| 4019 | 64 | White | Married  | T1 | N1 | IIA  | Moderately differentiated | 2 | Regional | 10 | Positive | Positive | 11 | 1 |  70 | Alive |\n",
       "| 4020 | 62 | Other | Married  | T1 | N1 | IIA  | Moderately differentiated | 2 | Regional |  9 | Positive | Positive |  1 | 1 |  49 | Alive |\n",
       "| 4021 | 56 | White | Divorced | T2 | N2 | IIIA | Moderately differentiated | 2 | Regional | 46 | Positive | Positive | 14 | 8 |  69 | Alive |\n",
       "| 4022 | 68 | White | Married  | T2 | N1 | IIB  | Moderately differentiated | 2 | Regional | 22 | Positive | Negative | 11 | 3 |  69 | Alive |\n",
       "| 4023 | 58 | Black | Divorced | T2 | N1 | IIB  | Moderately differentiated | 2 | Regional | 44 | Positive | Positive | 11 | 1 |  72 | Alive |\n",
       "| 4024 | 46 | White | Married  | T2 | N1 | IIB  | Moderately differentiated | 2 | Regional | 30 | Positive | Positive |  7 | 2 | 100 | Alive |\n",
       "\n"
      ],
      "text/plain": [
       "     Age Race  Marital.Status T.Stage N.Stage X6th.Stage\n",
       "4015 40  White Married        T3      N1      IIIA      \n",
       "4016 65  White Married        T2      N2      IIIA      \n",
       "4017 54  White Married        T2      N1      IIB       \n",
       "4018 46  White Married        T2      N1      IIB       \n",
       "4019 64  White Married        T1      N1      IIA       \n",
       "4020 62  Other Married        T1      N1      IIA       \n",
       "4021 56  White Divorced       T2      N2      IIIA      \n",
       "4022 68  White Married        T2      N1      IIB       \n",
       "4023 58  Black Divorced       T2      N1      IIB       \n",
       "4024 46  White Married        T2      N1      IIB       \n",
       "     differentiate             Grade A.Stage  Tumor.Size Estrogen.Status\n",
       "4015 Moderately differentiated 2     Regional 68         Positive       \n",
       "4016 Moderately differentiated 2     Regional 40         Positive       \n",
       "4017 Well differentiated       1     Regional 50         Positive       \n",
       "4018 Moderately differentiated 2     Regional 28         Negative       \n",
       "4019 Moderately differentiated 2     Regional 10         Positive       \n",
       "4020 Moderately differentiated 2     Regional  9         Positive       \n",
       "4021 Moderately differentiated 2     Regional 46         Positive       \n",
       "4022 Moderately differentiated 2     Regional 22         Positive       \n",
       "4023 Moderately differentiated 2     Regional 44         Positive       \n",
       "4024 Moderately differentiated 2     Regional 30         Positive       \n",
       "     Progesterone.Status Regional.Node.Examined Regional.Node.Positive\n",
       "4015 Positive            22                     2                     \n",
       "4016 Positive             4                     4                     \n",
       "4017 Positive            29                     2                     \n",
       "4018 Negative             2                     1                     \n",
       "4019 Positive            11                     1                     \n",
       "4020 Positive             1                     1                     \n",
       "4021 Positive            14                     8                     \n",
       "4022 Negative            11                     3                     \n",
       "4023 Positive            11                     1                     \n",
       "4024 Positive             7                     2                     \n",
       "     Survival.Months Status\n",
       "4015  86             Alive \n",
       "4016  68             Alive \n",
       "4017  52             Alive \n",
       "4018  19             Dead  \n",
       "4019  70             Alive \n",
       "4020  49             Alive \n",
       "4021  69             Alive \n",
       "4022  69             Alive \n",
       "4023  72             Alive \n",
       "4024 100             Alive "
      ]
     },
     "metadata": {},
     "output_type": "display_data"
    }
   ],
   "source": [
    "cancer_dataset = read.csv(\"./Breast_Cancer.csv\")\n",
    "colnames(cancer_dataset)[14] = \"Regional.Node.Positive\"\n",
    "head(cancer_dataset, n = 10)\n",
    "tail(cancer_dataset, n  = 10)"
   ]
  },
  {
   "cell_type": "code",
   "execution_count": 23,
   "metadata": {
    "vscode": {
     "languageId": "r"
    }
   },
   "outputs": [
    {
     "data": {
      "text/html": [
       "<style>\n",
       ".list-inline {list-style: none; margin:0; padding: 0}\n",
       ".list-inline>li {display: inline-block}\n",
       ".list-inline>li:not(:last-child)::after {content: \"\\00b7\"; padding: 0 .5ex}\n",
       "</style>\n",
       "<ol class=list-inline><li>'Age'</li><li>'Race'</li><li>'Marital.Status'</li><li>'T.Stage'</li><li>'N.Stage'</li><li>'X6th.Stage'</li><li>'differentiate'</li><li>'Grade'</li><li>'A.Stage'</li><li>'Tumor.Size'</li><li>'Estrogen.Status'</li><li>'Progesterone.Status'</li><li>'Regional.Node.Examined'</li><li>'Regional.Node.Positive'</li><li>'Survival.Months'</li></ol>\n"
      ],
      "text/latex": [
       "\\begin{enumerate*}\n",
       "\\item 'Age'\n",
       "\\item 'Race'\n",
       "\\item 'Marital.Status'\n",
       "\\item 'T.Stage'\n",
       "\\item 'N.Stage'\n",
       "\\item 'X6th.Stage'\n",
       "\\item 'differentiate'\n",
       "\\item 'Grade'\n",
       "\\item 'A.Stage'\n",
       "\\item 'Tumor.Size'\n",
       "\\item 'Estrogen.Status'\n",
       "\\item 'Progesterone.Status'\n",
       "\\item 'Regional.Node.Examined'\n",
       "\\item 'Regional.Node.Positive'\n",
       "\\item 'Survival.Months'\n",
       "\\end{enumerate*}\n"
      ],
      "text/markdown": [
       "1. 'Age'\n",
       "2. 'Race'\n",
       "3. 'Marital.Status'\n",
       "4. 'T.Stage'\n",
       "5. 'N.Stage'\n",
       "6. 'X6th.Stage'\n",
       "7. 'differentiate'\n",
       "8. 'Grade'\n",
       "9. 'A.Stage'\n",
       "10. 'Tumor.Size'\n",
       "11. 'Estrogen.Status'\n",
       "12. 'Progesterone.Status'\n",
       "13. 'Regional.Node.Examined'\n",
       "14. 'Regional.Node.Positive'\n",
       "15. 'Survival.Months'\n",
       "\n",
       "\n"
      ],
      "text/plain": [
       " [1] \"Age\"                    \"Race\"                   \"Marital.Status\"        \n",
       " [4] \"T.Stage\"                \"N.Stage\"                \"X6th.Stage\"            \n",
       " [7] \"differentiate\"          \"Grade\"                  \"A.Stage\"               \n",
       "[10] \"Tumor.Size\"             \"Estrogen.Status\"        \"Progesterone.Status\"   \n",
       "[13] \"Regional.Node.Examined\" \"Regional.Node.Positive\" \"Survival.Months\"       "
      ]
     },
     "metadata": {},
     "output_type": "display_data"
    },
    {
     "name": "stdout",
     "output_type": "stream",
     "text": [
      "The dimensions of our dataset are:  4024 16"
     ]
    }
   ],
   "source": [
    "column_names = colnames(cancer_dataset)\n",
    "features = column_names[-length(column_names)]\n",
    "features\n",
    "cat(\"The dimensions of our dataset are: \", dim(cancer_dataset))"
   ]
  },
  {
   "cell_type": "markdown",
   "metadata": {},
   "source": [
    "We have fifteen possible features, listed above that can help us gauge the status of a patient given these features of their cancer condition. "
   ]
  },
  {
   "cell_type": "code",
   "execution_count": 24,
   "metadata": {
    "vscode": {
     "languageId": "r"
    }
   },
   "outputs": [
    {
     "name": "stdout",
     "output_type": "stream",
     "text": [
      "Rows: 4,024\n",
      "Columns: 16\n",
      "$ Age                    \u001b[3m\u001b[90m<int>\u001b[39m\u001b[23m 68, 50, 58, 58, 47, 51, 51, 40, 40, 69, 68, 46,~\n",
      "$ Race                   \u001b[3m\u001b[90m<chr>\u001b[39m\u001b[23m \"White\", \"White\", \"White\", \"White\", \"White\", \"W~\n",
      "$ Marital.Status         \u001b[3m\u001b[90m<chr>\u001b[39m\u001b[23m \"Married\", \"Married\", \"Divorced\", \"Married\", \"M~\n",
      "$ T.Stage                \u001b[3m\u001b[90m<chr>\u001b[39m\u001b[23m \"T1\", \"T2\", \"T3\", \"T1\", \"T2\", \"T1\", \"T1\", \"T2\",~\n",
      "$ N.Stage                \u001b[3m\u001b[90m<chr>\u001b[39m\u001b[23m \"N1\", \"N2\", \"N3\", \"N1\", \"N1\", \"N1\", \"N1\", \"N1\",~\n",
      "$ X6th.Stage             \u001b[3m\u001b[90m<chr>\u001b[39m\u001b[23m \"IIA\", \"IIIA\", \"IIIC\", \"IIA\", \"IIB\", \"IIA\", \"II~\n",
      "$ differentiate          \u001b[3m\u001b[90m<chr>\u001b[39m\u001b[23m \"Poorly differentiated\", \"Moderately differenti~\n",
      "$ Grade                  \u001b[3m\u001b[90m<chr>\u001b[39m\u001b[23m \"3\", \"2\", \"2\", \"3\", \"3\", \"2\", \"1\", \"2\", \"3\", \"1~\n",
      "$ A.Stage                \u001b[3m\u001b[90m<chr>\u001b[39m\u001b[23m \"Regional\", \"Regional\", \"Regional\", \"Regional\",~\n",
      "$ Tumor.Size             \u001b[3m\u001b[90m<int>\u001b[39m\u001b[23m 4, 35, 63, 18, 41, 20, 8, 30, 103, 32, 13, 59, ~\n",
      "$ Estrogen.Status        \u001b[3m\u001b[90m<chr>\u001b[39m\u001b[23m \"Positive\", \"Positive\", \"Positive\", \"Positive\",~\n",
      "$ Progesterone.Status    \u001b[3m\u001b[90m<chr>\u001b[39m\u001b[23m \"Positive\", \"Positive\", \"Positive\", \"Positive\",~\n",
      "$ Regional.Node.Examined \u001b[3m\u001b[90m<int>\u001b[39m\u001b[23m 24, 14, 14, 2, 3, 18, 11, 9, 20, 21, 9, 11, 13,~\n",
      "$ Regional.Node.Positive \u001b[3m\u001b[90m<int>\u001b[39m\u001b[23m 1, 5, 7, 1, 1, 2, 1, 1, 18, 12, 1, 3, 3, 7, 14,~\n",
      "$ Survival.Months        \u001b[3m\u001b[90m<int>\u001b[39m\u001b[23m 60, 62, 75, 84, 50, 89, 54, 14, 70, 92, 64, 92,~\n",
      "$ Status                 \u001b[3m\u001b[90m<chr>\u001b[39m\u001b[23m \"Alive\", \"Alive\", \"Alive\", \"Alive\", \"Alive\", \"A~\n"
     ]
    }
   ],
   "source": [
    "glimpse(cancer_dataset)"
   ]
  },
  {
   "cell_type": "markdown",
   "metadata": {},
   "source": [
    "This information allows us to ensure that our datatypes for our categorical variables are all of the correct type `factor` and `int` or `double` for our continuous variables. "
   ]
  },
  {
   "cell_type": "code",
   "execution_count": 25,
   "metadata": {
    "vscode": {
     "languageId": "r"
    }
   },
   "outputs": [
    {
     "data": {
      "text/html": [
       "FALSE"
      ],
      "text/latex": [
       "FALSE"
      ],
      "text/markdown": [
       "FALSE"
      ],
      "text/plain": [
       "[1] FALSE"
      ]
     },
     "metadata": {},
     "output_type": "display_data"
    }
   ],
   "source": [
    "is.null(cancer_dataset)"
   ]
  },
  {
   "cell_type": "markdown",
   "metadata": {},
   "source": [
    "Our dataset also has 0 null valued poitns, which makes it easier for us as we do not need to get rid of any of our training examples. "
   ]
  },
  {
   "cell_type": "code",
   "execution_count": 28,
   "metadata": {
    "vscode": {
     "languageId": "r"
    }
   },
   "outputs": [
    {
     "data": {
      "text/plain": [
       "      Age            Race           Marital.Status       T.Stage         \n",
       " Min.   :30.00   Length:4024        Length:4024        Length:4024       \n",
       " 1st Qu.:47.00   Class :character   Class :character   Class :character  \n",
       " Median :54.00   Mode  :character   Mode  :character   Mode  :character  \n",
       " Mean   :53.97                                                           \n",
       " 3rd Qu.:61.00                                                           \n",
       " Max.   :69.00                                                           \n",
       "   N.Stage           X6th.Stage        differentiate         Grade          \n",
       " Length:4024        Length:4024        Length:4024        Length:4024       \n",
       " Class :character   Class :character   Class :character   Class :character  \n",
       " Mode  :character   Mode  :character   Mode  :character   Mode  :character  \n",
       "                                                                            \n",
       "                                                                            \n",
       "                                                                            \n",
       "   A.Stage            Tumor.Size     Estrogen.Status    Progesterone.Status\n",
       " Length:4024        Min.   :  1.00   Length:4024        Length:4024        \n",
       " Class :character   1st Qu.: 16.00   Class :character   Class :character   \n",
       " Mode  :character   Median : 25.00   Mode  :character   Mode  :character   \n",
       "                    Mean   : 30.47                                         \n",
       "                    3rd Qu.: 38.00                                         \n",
       "                    Max.   :140.00                                         \n",
       " Regional.Node.Examined Regional.Node.Positive Survival.Months\n",
       " Min.   : 1.00          Min.   : 1.000         Min.   :  1.0  \n",
       " 1st Qu.: 9.00          1st Qu.: 1.000         1st Qu.: 56.0  \n",
       " Median :14.00          Median : 2.000         Median : 73.0  \n",
       " Mean   :14.36          Mean   : 4.158         Mean   : 71.3  \n",
       " 3rd Qu.:19.00          3rd Qu.: 5.000         3rd Qu.: 90.0  \n",
       " Max.   :61.00          Max.   :46.000         Max.   :107.0  \n",
       "    Status         \n",
       " Length:4024       \n",
       " Class :character  \n",
       " Mode  :character  \n",
       "                   \n",
       "                   \n",
       "                   "
      ]
     },
     "metadata": {},
     "output_type": "display_data"
    }
   ],
   "source": [
    "summary(cancer_dataset)"
   ]
  },
  {
   "cell_type": "markdown",
   "metadata": {},
   "source": [
    "## Data Preprocessing"
   ]
  },
  {
   "cell_type": "markdown",
   "metadata": {},
   "source": [
    ">_*TEAM NOTE*_ We need to change the values for our categorical variables as factors so they will be compliant for the models. "
   ]
  },
  {
   "cell_type": "markdown",
   "metadata": {},
   "source": [
    "## Methods for Experimentation "
   ]
  },
  {
   "cell_type": "markdown",
   "metadata": {},
   "source": []
  }
 ],
 "metadata": {
  "kernelspec": {
   "display_name": "R",
   "language": "R",
   "name": "ir"
  },
  "language_info": {
   "codemirror_mode": "r",
   "file_extension": ".r",
   "mimetype": "text/x-r-source",
   "name": "R",
   "pygments_lexer": "r",
   "version": "4.2.1"
  },
  "orig_nbformat": 4
 },
 "nbformat": 4,
 "nbformat_minor": 2
}
